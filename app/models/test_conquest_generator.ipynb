{
 "cells": [
  {
   "cell_type": "markdown",
   "id": "d49d7818",
   "metadata": {},
   "source": [
    "# Depuración Interactiva del Conquest Generator\n",
    "\n",
    "Este notebook usa `record_steps=True` y muestra todos los estados intermedios (conquistas y pasos lógicos)\n",
    "con un slider muy ágil, gracias a caching de imágenes y `ipywidgets.interact`.\n"
   ]
  },
  {
   "cell_type": "code",
   "execution_count": null,
   "id": "f366b834",
   "metadata": {},
   "outputs": [
    {
     "name": "stdout",
     "output_type": "stream",
     "text": [
      "Collecting ipywidgets\n",
      "  Downloading ipywidgets-8.1.7-py3-none-any.whl (139 kB)\n",
      "     ------------------------------------ 139.8/139.8 kB 925.5 kB/s eta 0:00:00\n",
      "Requirement already satisfied: pillow in c:\\users\\eloy\\anaconda3\\envs\\py310\\lib\\site-packages (9.5.0)\n",
      "Collecting comm>=0.1.3 (from ipywidgets)\n",
      "  Downloading comm-0.2.2-py3-none-any.whl (7.2 kB)\n",
      "Requirement already satisfied: ipython>=6.1.0 in c:\\users\\eloy\\anaconda3\\envs\\py310\\lib\\site-packages (from ipywidgets) (8.12.0)\n",
      "Requirement already satisfied: traitlets>=4.3.1 in c:\\users\\eloy\\anaconda3\\envs\\py310\\lib\\site-packages (from ipywidgets) (5.9.0)\n",
      "Collecting widgetsnbextension~=4.0.14 (from ipywidgets)\n",
      "  Downloading widgetsnbextension-4.0.14-py3-none-any.whl (2.2 MB)\n",
      "     ---------------------------------------- 2.2/2.2 MB 449.9 kB/s eta 0:00:00\n",
      "Collecting jupyterlab_widgets~=3.0.15 (from ipywidgets)\n",
      "  Downloading jupyterlab_widgets-3.0.15-py3-none-any.whl (216 kB)\n",
      "     ------------------------------------ 216.6/216.6 kB 778.6 kB/s eta 0:00:00\n",
      "Requirement already satisfied: backcall in c:\\users\\eloy\\anaconda3\\envs\\py310\\lib\\site-packages (from ipython>=6.1.0->ipywidgets) (0.2.0)\n",
      "Requirement already satisfied: decorator in c:\\users\\eloy\\anaconda3\\envs\\py310\\lib\\site-packages (from ipython>=6.1.0->ipywidgets) (5.1.1)\n",
      "Requirement already satisfied: jedi>=0.16 in c:\\users\\eloy\\anaconda3\\envs\\py310\\lib\\site-packages (from ipython>=6.1.0->ipywidgets) (0.18.2)\n",
      "Requirement already satisfied: matplotlib-inline in c:\\users\\eloy\\anaconda3\\envs\\py310\\lib\\site-packages (from ipython>=6.1.0->ipywidgets) (0.1.6)\n",
      "Requirement already satisfied: pickleshare in c:\\users\\eloy\\anaconda3\\envs\\py310\\lib\\site-packages (from ipython>=6.1.0->ipywidgets) (0.7.5)\n",
      "Requirement already satisfied: prompt-toolkit!=3.0.37,<3.1.0,>=3.0.30 in c:\\users\\eloy\\anaconda3\\envs\\py310\\lib\\site-packages (from ipython>=6.1.0->ipywidgets) (3.0.38)\n",
      "Requirement already satisfied: pygments>=2.4.0 in c:\\users\\eloy\\anaconda3\\envs\\py310\\lib\\site-packages (from ipython>=6.1.0->ipywidgets) (2.15.1)\n",
      "Requirement already satisfied: stack-data in c:\\users\\eloy\\anaconda3\\envs\\py310\\lib\\site-packages (from ipython>=6.1.0->ipywidgets) (0.6.2)\n",
      "Requirement already satisfied: colorama in c:\\users\\eloy\\appdata\\roaming\\python\\python310\\site-packages (from ipython>=6.1.0->ipywidgets) (0.4.4)\n",
      "Requirement already satisfied: parso<0.9.0,>=0.8.0 in c:\\users\\eloy\\anaconda3\\envs\\py310\\lib\\site-packages (from jedi>=0.16->ipython>=6.1.0->ipywidgets) (0.8.3)\n",
      "Requirement already satisfied: wcwidth in c:\\users\\eloy\\anaconda3\\envs\\py310\\lib\\site-packages (from prompt-toolkit!=3.0.37,<3.1.0,>=3.0.30->ipython>=6.1.0->ipywidgets) (0.2.6)\n",
      "Requirement already satisfied: executing>=1.2.0 in c:\\users\\eloy\\anaconda3\\envs\\py310\\lib\\site-packages (from stack-data->ipython>=6.1.0->ipywidgets) (1.2.0)\n",
      "Requirement already satisfied: asttokens>=2.1.0 in c:\\users\\eloy\\anaconda3\\envs\\py310\\lib\\site-packages (from stack-data->ipython>=6.1.0->ipywidgets) (2.2.1)\n",
      "Requirement already satisfied: pure-eval in c:\\users\\eloy\\anaconda3\\envs\\py310\\lib\\site-packages (from stack-data->ipython>=6.1.0->ipywidgets) (0.2.2)\n",
      "Requirement already satisfied: six in c:\\users\\eloy\\anaconda3\\envs\\py310\\lib\\site-packages (from asttokens>=2.1.0->stack-data->ipython>=6.1.0->ipywidgets) (1.16.0)\n",
      "Installing collected packages: widgetsnbextension, jupyterlab_widgets, comm, ipywidgets\n",
      "Successfully installed comm-0.2.2 ipywidgets-8.1.7 jupyterlab_widgets-3.0.15 widgetsnbextension-4.0.14\n"
     ]
    },
    {
     "name": "stderr",
     "output_type": "stream",
     "text": [
      "Enabling notebook extension jupyter-js-widgets/extension...\n",
      "      - Validating: ok\n"
     ]
    }
   ],
   "source": [
    "# # Si necesitas instalar:\n",
    "# !pip install ipywidgets pillow\n",
    "\n",
    "import sys, os\n",
    "# Ajusta si el notebook está en un subdirectorio:\n",
    "# os.chdir('..')  \n",
    "\n",
    "# Asegúrate de que Python encuentre tu módulo:\n",
    "sys.path.insert(0, os.getcwd())\n",
    "\n",
    "from conquest_generator import generate_conquest_board  # o la ruta correcta\n",
    "from PIL import Image\n",
    "import numpy as np\n",
    "import ipywidgets as widgets\n",
    "from IPython.display import display, Markdown, clear_output\n",
    "from functools import lru_cache\n"
   ]
  },
  {
   "cell_type": "code",
   "execution_count": null,
   "id": "600fb907",
   "metadata": {},
   "outputs": [
    {
     "name": "stdout",
     "output_type": "stream",
     "text": [
      "[debug] alternate solution at it8, revert\n",
      "[debug] alternate solution at it9, revert\n",
      "[debug] alternate solution at it17, revert\n",
      "[debug] alternate solution at it32, revert\n",
      "[debug] alternate solution at it41, revert\n",
      "[debug] alternate solution at it48, revert\n",
      "[debug] alternate solution at it56, revert\n",
      "[debug] alternate solution at it64, revert\n",
      "[debug] alternate solution at it72, revert\n",
      "[debug] alternate solution at it73, revert\n",
      "[debug] alternate solution at it88, revert\n",
      "[debug] alternate solution at it89, revert\n",
      "[debug] alternate solution at it96, revert\n",
      "[debug] alternate solution at it112, revert\n",
      "[debug] alternate solution at it113, revert\n",
      "[debug] alternate solution at it120, revert\n",
      "[debug] alternate solution at it121, revert\n",
      "[stop] conquest limit 128\n",
      "Solución oficial: [3, 5, 1, 7, 0, 6, 2, 4]\n",
      "Iteraciones: 131, Conquistas: 128, Motivo: conquest limit 128\n",
      "Estados grabados: 460\n",
      "\n"
     ]
    }
   ],
   "source": [
    "# Parámetros\n",
    "N = 8\n",
    "debug = True\n",
    "\n",
    "# Ejecuta la generación con grabado de pasos\n",
    "sol, final_board, iterations, successful, reason, history = generate_conquest_board(\n",
    "    n=N, debug=debug, record_steps=True\n",
    ")\n",
    "\n",
    "print(f\"Solución oficial: {sol}\")\n",
    "print(f\"Iteraciones: {iterations}, Conquistas: {successful}, Motivo: {reason}\")\n",
    "print(f\"Estados grabados: {len(history)}\\n\")\n"
   ]
  },
  {
   "cell_type": "code",
   "execution_count": null,
   "id": "62c6877f",
   "metadata": {},
   "outputs": [],
   "source": [
    "@lru_cache(maxsize=None)\n",
    "def get_step_image(idx: int):\n",
    "    \"\"\"\n",
    "    Devuelve (label, PIL.Image) para el paso idx, \n",
    "    y convierte la matriz RGB a imagen sólo la primera vez.\n",
    "    \"\"\"\n",
    "    label, board_rgb = history[idx]\n",
    "    arr = np.array(board_rgb, dtype=np.uint8)  # (N,N,3)\n",
    "    img = Image.fromarray(arr)\n",
    "    return label, img\n"
   ]
  },
  {
   "cell_type": "code",
   "execution_count": null,
   "id": "29391bd4",
   "metadata": {},
   "outputs": [
    {
     "data": {
      "application/vnd.jupyter.widget-view+json": {
       "model_id": "c6c22ece8544478f97336516ba728e94",
       "version_major": 2,
       "version_minor": 0
      },
      "text/plain": [
       "IntSlider(value=0, continuous_update=False, description='Paso:', max=459)"
      ]
     },
     "metadata": {},
     "output_type": "display_data"
    },
    {
     "data": {
      "application/vnd.jupyter.widget-view+json": {
       "model_id": "0b231fee90504e0d89aeb65a35eaa1fb",
       "version_major": 2,
       "version_minor": 0
      },
      "text/plain": [
       "Output()"
      ]
     },
     "metadata": {},
     "output_type": "display_data"
    }
   ],
   "source": [
    "def show_step(idx: int):\n",
    "    clear_output(wait=True)\n",
    "    label, img = get_step_image(idx)\n",
    "    display(Markdown(f\"### {idx}: {label}\"))\n",
    "    display(img)\n"
   ]
  },
  {
   "cell_type": "code",
   "execution_count": null,
   "id": "a1fdc3a5",
   "metadata": {},
   "outputs": [],
   "source": [
    "# Crea el slider\n",
    "slider = widgets.IntSlider(\n",
    "    value=0, min=0, max=len(history)-1, step=1, description='Paso:',\n",
    "    continuous_update=False\n",
    ")\n",
    "\n",
    "# Usa interact para vincular slider → show_step\n",
    "widgets.interact(show_step, idx=slider)\n",
    "\n",
    "# Muestra inicialmente el primer paso\n",
    "show_step(0)\n"
   ]
  }
 ],
 "metadata": {
  "kernelspec": {
   "display_name": "py310",
   "language": "python",
   "name": "python3"
  },
  "language_info": {
   "codemirror_mode": {
    "name": "ipython",
    "version": 3
   },
   "file_extension": ".py",
   "mimetype": "text/x-python",
   "name": "python",
   "nbconvert_exporter": "python",
   "pygments_lexer": "ipython3",
   "version": "3.10.10"
  }
 },
 "nbformat": 4,
 "nbformat_minor": 5
}
